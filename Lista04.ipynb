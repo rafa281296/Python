{
 "cells": [
  {
   "cell_type": "markdown",
   "metadata": {},
   "source": [
    "1 Menor de dois pares: Escreva uma função que retorne o menor de dois números dados se ambos os números forem pares, mas retorna o maior se um dos dois for ímpar."
   ]
  },
  {
   "cell_type": "code",
   "execution_count": 32,
   "metadata": {},
   "outputs": [],
   "source": [
    "def menor_de_dois_pares(a,b):\n",
    "    lista = [a, b]\n",
    "    if(sum(lista)%2==0):\n",
    "        print(min(lista))\n",
    "    else:\n",
    "        print(max(lista))"
   ]
  },
  {
   "cell_type": "code",
   "execution_count": 34,
   "metadata": {},
   "outputs": [
    {
     "name": "stdout",
     "output_type": "stream",
     "text": [
      "5\n"
     ]
    }
   ],
   "source": [
    "menor_de_dois_pares(2,5)"
   ]
  },
  {
   "cell_type": "code",
   "execution_count": 35,
   "metadata": {},
   "outputs": [
    {
     "name": "stdout",
     "output_type": "stream",
     "text": [
      "2\n"
     ]
    }
   ],
   "source": [
    "menor_de_dois_pares(2,4)"
   ]
  },
  {
   "cell_type": "markdown",
   "metadata": {},
   "source": [
    "2 Mesma letra: Escreva uma função que receba uma string com duas palavras e retorne True se ambas palavras começarem com a mesma letra."
   ]
  },
  {
   "cell_type": "code",
   "execution_count": 81,
   "metadata": {},
   "outputs": [],
   "source": [
    "def mesma_letra(p):\n",
    "    lista = p.split()\n",
    "    if(lista[0][0] == lista[1][0]):\n",
    "        print(True)\n",
    "    else:\n",
    "        print(False)"
   ]
  },
  {
   "cell_type": "code",
   "execution_count": 83,
   "metadata": {},
   "outputs": [
    {
     "name": "stdout",
     "output_type": "stream",
     "text": [
      "True\n"
     ]
    }
   ],
   "source": [
    "mesma_letra(\"teste teste\")"
   ]
  },
  {
   "cell_type": "markdown",
   "metadata": {},
   "source": [
    "3 Mestre Yoda: Dada uma sentença, a função deve retornar a sentença com as palavras na ordem reversa."
   ]
  },
  {
   "cell_type": "code",
   "execution_count": 1,
   "metadata": {},
   "outputs": [],
   "source": [
    "def mestre_yoda(frase):\n",
    "    lista = frase.split()\n",
    "    lista.reverse()\n",
    "    print(lista)"
   ]
  },
  {
   "cell_type": "code",
   "execution_count": 2,
   "metadata": {},
   "outputs": [
    {
     "name": "stdout",
     "output_type": "stream",
     "text": [
      "['casa', 'em', 'estou', 'Eu']\n"
     ]
    }
   ],
   "source": [
    "mestre_yoda(\"Eu estou em casa\")"
   ]
  },
  {
   "cell_type": "markdown",
   "metadata": {},
   "source": [
    "4 Tem 33: Faça uma função que retorne True se, dada uma lista de inteiros, houver em alguma posição da lista um 3 do lado de outro 3."
   ]
  },
  {
   "cell_type": "code",
   "execution_count": 3,
   "metadata": {},
   "outputs": [],
   "source": [
    "def tem_33(lista):\n",
    "    tem33 = False\n",
    "    x = 0\n",
    "    while x < len(lista)-1:\n",
    "        if str(lista[x]) == str(lista[x+1]):\n",
    "            tem33 = True\n",
    "            break\n",
    "        x+=1\n",
    "    print(tem33)"
   ]
  },
  {
   "cell_type": "code",
   "execution_count": 4,
   "metadata": {},
   "outputs": [
    {
     "name": "stdout",
     "output_type": "stream",
     "text": [
      "True\n",
      "False\n",
      "False\n"
     ]
    }
   ],
   "source": [
    "tem_33([1,3,3])\n",
    "tem_33([1,3,1,3])\n",
    "tem_33([3,1,3])"
   ]
  },
  {
   "cell_type": "markdown",
   "metadata": {},
   "source": [
    "5 Blackjack:\n",
    "Faça uma função que receba 3 inteiros entre 1 e 11. Se a soma deles for \n",
    "menor que 21, retorne o valor da soma. Se for mair do que 21 e houver um 11, \n",
    "subtraia 10 da soma antes de apresentar o resultado. Se o valor da soma\n",
    "passar de 21, retorne ‘ESTOUROU’"
   ]
  },
  {
   "cell_type": "code",
   "execution_count": 5,
   "metadata": {},
   "outputs": [],
   "source": [
    "def blackjack(a,b,c):\n",
    "    soma = a+b+c\n",
    "    if soma < 21:\n",
    "        print(soma)\n",
    "    else:\n",
    "        if a == 11 or b == 11 or c == 11:\n",
    "            print(soma - 10)\n",
    "\n",
    "        else:\n",
    "            print('ESTOUROU')"
   ]
  },
  {
   "cell_type": "code",
   "execution_count": 6,
   "metadata": {},
   "outputs": [
    {
     "name": "stdout",
     "output_type": "stream",
     "text": [
      "18\n",
      "ESTOUROU\n",
      "19\n"
     ]
    }
   ],
   "source": [
    "blackjack(5,6,7)\n",
    "blackjack(9,9,9)\n",
    "blackjack(9,9,11)"
   ]
  },
  {
   "cell_type": "markdown",
   "metadata": {},
   "source": [
    "6 Espião: Escreva uma função que receba uma lista de inteiros e retorne True se contém um 007 em ordem, mesmoque não contínuo."
   ]
  },
  {
   "cell_type": "code",
   "execution_count": 7,
   "metadata": {},
   "outputs": [],
   "source": [
    "def espiao(lista):\n",
    "    zeros = 0\n",
    "    espiao = False\n",
    "    x = 0\n",
    "    while x < len(lista):\n",
    "        if lista[x] == 0:\n",
    "            zeros +=1\n",
    "        elif lista[x] == 7 and zeros > 1:\n",
    "            espiao = True\n",
    "            break\n",
    "        x+=1\n",
    "    print(espiao)"
   ]
  },
  {
   "cell_type": "code",
   "execution_count": 8,
   "metadata": {},
   "outputs": [
    {
     "name": "stdout",
     "output_type": "stream",
     "text": [
      "True\n",
      "True\n",
      "False\n"
     ]
    }
   ],
   "source": [
    "espiao([1,2,4,0,0,7,5])\n",
    "espiao([1,0,2,4,0,5,7])\n",
    "espiao([1,7,2,4,0,5,0])"
   ]
  }
 ],
 "metadata": {
  "kernelspec": {
   "display_name": "Python 3",
   "language": "python",
   "name": "python3"
  },
  "language_info": {
   "codemirror_mode": {
    "name": "ipython",
    "version": 3
   },
   "file_extension": ".py",
   "mimetype": "text/x-python",
   "name": "python",
   "nbconvert_exporter": "python",
   "pygments_lexer": "ipython3",
   "version": "3.6.4"
  }
 },
 "nbformat": 4,
 "nbformat_minor": 2
}
