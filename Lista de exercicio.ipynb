{
 "cells": [
  {
   "cell_type": "markdown",
   "metadata": {},
   "source": [
    "1 Faça um Programa que peça dois números e imprima o maior deles."
   ]
  },
  {
   "cell_type": "code",
   "execution_count": null,
   "metadata": {},
   "outputs": [],
   "source": [
    "num1 = input(\"Digite o primeiro numero \")\n",
    "num2 = input(\"Digite o segundo numero \")\n",
    "\n",
    "if num1>num2:\n",
    "    print(\"Numero: \" + num1 + \" é maior\")\n",
    "else:\n",
    "    print(\"Numero: \" + num2 + \" é maior\")"
   ]
  },
  {
   "cell_type": "markdown",
   "metadata": {},
   "source": [
    "2 Faça um Programa que verifique se uma letra digitada é vogal ou consoante"
   ]
  },
  {
   "cell_type": "code",
   "execution_count": 8,
   "metadata": {},
   "outputs": [
    {
     "name": "stdout",
     "output_type": "stream",
     "text": [
      "Digite uma letrau\n",
      "A letra: u é uma vogal\n"
     ]
    }
   ],
   "source": [
    "x = input(\"Digite uma letra\")\n",
    "vogal = ['a','e','i','o','u']\n",
    "\n",
    "\n",
    "if x in vogal:\n",
    "    print (\"A letra: \" + x+\" é uma vogal\")\n",
    "else:\n",
    "    print(\"A letra: \" + x +\" é uma consoante\")\n"
   ]
  },
  {
   "cell_type": "markdown",
   "metadata": {},
   "source": [
    "3 Faça um programa para a leitura de duas notas parciais de um aluno. O programa\n",
    "deve calcular a média alcançada por aluno e apresentar:\n",
    "- A mensagem \"Aprovado\", se a média alcançada for maior ou igual a sete;\n",
    "- A mensagem \"Reprovado\", se a média for menor do que sete;\n",
    "- A mensagem \"Aprovado com Distinção\", se a média for igual a dez"
   ]
  },
  {
   "cell_type": "code",
   "execution_count": 20,
   "metadata": {},
   "outputs": [
    {
     "name": "stdout",
     "output_type": "stream",
     "text": [
      "Digite a primeira nota10\n",
      "Digite a segunda nota10\n",
      "Aprovado com Distinção\n"
     ]
    }
   ],
   "source": [
    "x = int(input(\"Digite a primeira nota\"))\n",
    "y = int(input(\"Digite a segunda nota\"))\n",
    "\n",
    "m= (x+y)/2\n",
    "\n",
    "if m== 10:\n",
    "    print(\"Aprovado com Distinção\")\n",
    "elif m<7:\n",
    "    print(\"Reprovado\")\n",
    "else:\n",
    "    print(\"Aprovado\")"
   ]
  },
  {
   "cell_type": "markdown",
   "metadata": {},
   "source": [
    "4 Faça um Programa que leia três números e mostre-os em ordem decrescente."
   ]
  },
  {
   "cell_type": "code",
   "execution_count": 24,
   "metadata": {},
   "outputs": [
    {
     "name": "stdout",
     "output_type": "stream",
     "text": [
      "Digite um numero1\n",
      "Digite um numero2\n",
      "Digite um numero34\n"
     ]
    },
    {
     "data": {
      "text/plain": [
       "[34, 2, 1]"
      ]
     },
     "execution_count": 24,
     "metadata": {},
     "output_type": "execute_result"
    }
   ],
   "source": [
    "x = int(input(\"Digite um numero\"))\n",
    "y = int(input(\"Digite um numero\"))\n",
    "z = int(input(\"Digite um numero\"))\n",
    "\n",
    "my_list = [x,y,z]\n",
    "my_list.reverse()\n",
    "my_list"
   ]
  },
  {
   "cell_type": "markdown",
   "metadata": {},
   "source": [
    "5 As Organizações Tabajara resolveram dar um aumento de salário aos seus\n",
    "colaboradores e lhe contrataram para desenvolver o programa que calculará os\n",
    "reajustes.\n",
    "Faça um programa que recebe o salário de um colaborador e o reajuste segundo o\n",
    "seguinte critério, baseado no salário atual: salários até R$ 280,00 (incluindo) : aumento de 20\n",
    "salários entre R$ 280,00 e R$ 700,00 : aumento de 15\n",
    "salários entre R$ 700,00 e R$ 1500,00 : aumento de 10\n",
    "salários de R$ 1500,00 em diante : aumento de 5% Após o aumento ser realizado,\n",
    "informe na tela:\n",
    "o salário antes do reajuste;\n",
    "o percentual de aumento aplicado;\n",
    "o valor do aumento;\n",
    "o novo salário, após o aumento"
   ]
  },
  {
   "cell_type": "code",
   "execution_count": 74,
   "metadata": {},
   "outputs": [
    {
     "name": "stdout",
     "output_type": "stream",
     "text": [
      "Digite o salario900\n",
      "o salário antes do reajuste:  900 \n",
      "o percentual de aumento aplicado: 10% \n",
      "o valor do aumento 90.0 \n",
      "o novo salário, após o aumento 990.0000000000001\n"
     ]
    }
   ],
   "source": [
    "x = int(input(\"Digite o salario\"))\n",
    "\n",
    "if 280>=x:\n",
    "    print(\"o salário antes do reajuste: \" ,x ,\n",
    "      \"\\no percentual de aumento aplicado: 20%\" ,\n",
    "      \"\\no valor do aumento\" ,(x*0.2), \n",
    "      \"\\no novo salário, após o aumento\" ,(x*1.2))\n",
    "elif 700>=x:\n",
    "    print(\"o salário antes do reajuste: \" ,x ,\n",
    "      \"\\no percentual de aumento aplicado: 15%\" ,\n",
    "      \"\\no valor do aumento\" ,(x*0.15), \n",
    "      \"\\no novo salário, após o aumento\" ,(x*1.15))\n",
    "elif 1500>=x:\n",
    "    print(\"o salário antes do reajuste: \" ,x ,\n",
    "      \"\\no percentual de aumento aplicado: 10%\" ,\n",
    "      \"\\no valor do aumento\" ,(x*0.1), \n",
    "      \"\\no novo salário, após o aumento\" ,(x*1.1))\n",
    "else:\n",
    "    print(\"o salário antes do reajuste: \" ,x ,\n",
    "      \"\\no percentual de aumento aplicado: 5%\" ,\n",
    "      \"\\no valor do aumento\" ,(x*0.05), \n",
    "      \"\\no novo salário, após o aumento\" ,(x*1.05))\n"
   ]
  },
  {
   "cell_type": "markdown",
   "metadata": {},
   "source": [
    "6 Faça um Programa que leia um número e exiba o dia correspondente da semana.\n",
    "(1-Domingo, 2- Segunda, etc.), se digitar outro valor deve aparecer valor inválido.\n"
   ]
  },
  {
   "cell_type": "code",
   "execution_count": 76,
   "metadata": {},
   "outputs": [
    {
     "name": "stdout",
     "output_type": "stream",
     "text": [
      "Digite um numero5\n",
      "Quinta\n"
     ]
    }
   ],
   "source": [
    "x = int(input(\"Digite um numero\"))\n",
    "\n",
    "if x == 1:\n",
    "    print(\"Domingo\")\n",
    "elif x == 2:\n",
    "    print(\"Segunda\")\n",
    "elif x==3:\n",
    "    print(\"Terça\")\n",
    "elif x==4:\n",
    "    print(\"Quarta\")\n",
    "elif x==5:\n",
    "    print(\"Quinta\")\n",
    "elif x==6:\n",
    "    print(\"Sexta\")\n",
    "elif x==7:\n",
    "    print(\"Sabado\")\n",
    "else:\n",
    "    print(\"Invalido\")"
   ]
  },
  {
   "cell_type": "markdown",
   "metadata": {},
   "source": [
    "7 Faça um programa que lê as duas notas parciais obtidas por um aluno numa\n",
    "disciplina ao longo de um semestre, e calcule a sua média. A atribuição de conceitos\n",
    "obedece à tabela abaixo:"
   ]
  },
  {
   "cell_type": "code",
   "execution_count": 88,
   "metadata": {},
   "outputs": [
    {
     "name": "stdout",
     "output_type": "stream",
     "text": [
      "Digite a primeira nota 1\n",
      "Digite a segunda nota 1\n",
      "Reprovado\n"
     ]
    }
   ],
   "source": [
    "x= float(input(\"Digite a primeira nota \"))\n",
    "y= float(input(\"Digite a segunda nota \"))\n",
    "\n",
    "m = (x/y)\n",
    "\n",
    "if 4>=m:\n",
    "    print(\"Reprovado\")\n",
    "elif 6>=m:\n",
    "    print(\"Reprovado\")\n",
    "elif 7.5>=m:\n",
    "    print(\"Aprovado\")\n",
    "elif 9>=m:\n",
    "    print(\"Aprovado\")\n",
    "elif 10>=m:\n",
    "    print(\"Aprovado\")"
   ]
  },
  {
   "cell_type": "markdown",
   "metadata": {},
   "source": [
    "8 Faça um Programa que peça os 3 lados de um triângulo. O programa deverá\n",
    "informar se os valores podem ser um triângulo. Indique, caso os lados formem um\n",
    "triângulo, se o mesmo é: equilátero, isósceles ou escaleno"
   ]
  },
  {
   "cell_type": "code",
   "execution_count": 95,
   "metadata": {},
   "outputs": [
    {
     "name": "stdout",
     "output_type": "stream",
     "text": [
      "Digite o primeiro lado 1\n",
      "Digite o segundo lado 2\n",
      "Digite o terceiro lado 3\n",
      "É um triangulo\n",
      "Triangulo Escaleno\n"
     ]
    }
   ],
   "source": [
    "a= int(input(\"Digite o primeiro lado \"))\n",
    "b= int(input(\"Digite o segundo lado \"))\n",
    "c= int(input(\"Digite o terceiro lado \"))\n",
    "\n",
    "if ((a+b) > c) or ((a+c) >b) or ((b+c)>a):\n",
    "    print(\"É um triangulo\")\n",
    "    if (a==b==c):\n",
    "        print(\"Triangulo Equilatero\")\n",
    "    elif (a==b) or (b==c) or (c==a):\n",
    "        print(\"Triangulo Isósceles\")\n",
    "    else:\n",
    "        print(\"Triangulo Escaleno\")\n",
    "else:\n",
    "    print(\"Não é um triangulo\")"
   ]
  },
  {
   "cell_type": "markdown",
   "metadata": {},
   "source": [
    "9 Faça um programa que calcule as raízes de uma equação do segundo grau, na\n",
    "forma ax2 + bx + c. O programa deverá pedir os valores de a, b e c e fazer as\n",
    "consistências, informando ao usuário nas seguintes situações:\n",
    "- Se o usuário informar o valor de A igual a zero, a equação não é do segundo grau e\n",
    "o programa não deve fazer pedir os demais valores, sendo encerrado;\n",
    "- Se o delta calculado for negativo, a equação não possui raizes reais. Informe ao\n",
    "usuário e encerre o programa;\n",
    "- Se o delta calculado for igual a zero a equação possui apenas uma raiz real;\n",
    "informe-a ao usuário;\n",
    "- Se o delta for positivo, a equação possui duas raiz reais; informe-as ao usuário;"
   ]
  },
  {
   "cell_type": "code",
   "execution_count": 5,
   "metadata": {},
   "outputs": [
    {
     "name": "stdout",
     "output_type": "stream",
     "text": [
      "Digite o valor de a 0\n",
      "A equação não é de segundo grau\n"
     ]
    }
   ],
   "source": [
    "a= int(input(\"Digite o valor de a \"))\n",
    "\n",
    "if a != 0:    \n",
    "    b= int(input(\"Digite o valor de b \"))\n",
    "    c= int(input(\"Digite o valor de c \"))\n",
    "    \n",
    "    d = (b**2) - (4 * a*c)\n",
    "    if 0>d:\n",
    "        print(\"A equação nao possue raizes reais\")\n",
    "    elif d == 0:\n",
    "        x = (-(b) + (d**1.2))/ 2*a\n",
    "        print(\"Raiz da função\", x)\n",
    "    elif d>0:\n",
    "        x = (-(b) + (d**1.2))/ 2*a\n",
    "        y = (-(b) - (d**1.2))/ 2*a\n",
    "        print(\"As Raizes da função são : \", x , y)\n",
    "else:\n",
    "    print(\"A equação não é de segundo grau\")\n"
   ]
  },
  {
   "cell_type": "markdown",
   "metadata": {},
   "source": [
    "10 Faça um Programa para um caixa eletrônico. O programa deverá perguntar ao\n",
    "usuário a valor do saque e depois informar quantas notas de cada valor serão\n",
    "fornecidas. As notas disponíveis serão as de 1, 5, 10, 50 e 100 reais. O valor mínimo é\n",
    "de 10 reais e o máximo de 600 reais. O programa não deve se preocupar com a\n",
    "quantidade de notas existentes na máquina.\n",
    "- Exemplo 1: Para sacar a quantia de 256 reais, o programa fornece duas notas de\n",
    "100, uma nota de 50, uma nota de 5 e uma nota de 1;\n",
    "- Exemplo 2: Para sacar a quantia de 399 reais, o programa fornece três notas de\n",
    "100, uma nota de 50, quatro notas de 10, uma nota de 5 e quatro notas de 1."
   ]
  },
  {
   "cell_type": "code",
   "execution_count": 1,
   "metadata": {},
   "outputs": [
    {
     "name": "stdout",
     "output_type": "stream",
     "text": [
      "Digite o valor do saque  300\n",
      "Notas:\n",
      "100: 3.0\n",
      "50: 0\n",
      "10: 0\n",
      "5: 0\n",
      "1: 0\n"
     ]
    }
   ],
   "source": [
    "notas = [100, 50, 10, 5, 1]\n",
    "res = [0, 0, 0, 0, 0]\n",
    "valor = float(input(\"Digite o valor do saque  \"))\n",
    "while (True):\n",
    "    if valor >= 10 and valor <= 600:\n",
    "        for i in range(5):\n",
    "            if valor >= notas[i]:\n",
    "                res[i] = valor // notas[i]\n",
    "                valor = valor % notas[i]\n",
    "        print (\"Notas:\\n100: \"+str(res[0])+\"\\n50: \"+str(res[1])+\"\\n10: \"+str(res[2])+\"\\n5: \"+str(res[3])+\"\\n1: \"+str(res[4]))\n",
    "        break\n",
    "    else:\n",
    "        print(\"Digite um valor entre 10 e 600\")\n",
    "        valor = float(input(\"Digite o valor do saque  \"))\n"
   ]
  },
  {
   "cell_type": "markdown",
   "metadata": {},
   "source": [
    "11 . Faça um programa que faça 5 perguntas para uma pessoa sobre um crime. As\n",
    "perguntas são:\n",
    "\"Telefonou para a vítima?\"\n",
    "\"Esteve no local do crime?\"\n",
    "\"Mora perto da vítima?\"\n",
    "\"Devia para a vítima?\"\n",
    "\"Já trabalhou com a vítima?\"\n",
    "O programa deve no final emitir uma classificação sobre a participação da pessoa no\n",
    "crime. Se a pessoa responder positivamente a 2 questões ela deve ser classificada\n",
    "como \"Suspeita\", entre 3 e 4 como \"Cúmplice\" e 5 como \"Assassino\". Caso contrário,\n",
    "ele será classificado como \"Inocente\"."
   ]
  },
  {
   "cell_type": "code",
   "execution_count": 3,
   "metadata": {},
   "outputs": [
    {
     "name": "stdout",
     "output_type": "stream",
     "text": [
      "Telefonou para a vitima? (s/n)s\n",
      "Esteve no local do crime? (s/n)n\n",
      "Mora perto da vitima? (s/n)s\n",
      "Devia para a vitima? (s/n)b\n",
      "Já trabalhou com a vitima? (s/n)s\n",
      "Cúmplice\n"
     ]
    }
   ],
   "source": [
    "score = 0\n",
    "if input(\"Telefonou para a vitima? (s/n)\") == 's':\n",
    "    score += 1\n",
    "if input(\"Esteve no local do crime? (s/n)\") == 's':\n",
    "    score += 1\n",
    "\n",
    "    if input(\"Mora perto da vitima? (s/n)\") == 's':\n",
    "    score += 1\n",
    "if input(\"Devia para a vitima? (s/n)\") == 's':\n",
    "    score += 1\n",
    "if input(\"Já trabalhou com a vitima? (s/n)\")== 's':\n",
    "    score += 1\n",
    "\n",
    "if score < 2:\n",
    "    cl = \"Inocente\"\n",
    "elif score == 2:\n",
    "    cl = \"suspeita\"\n",
    "elif score > 2 and score <=4:\n",
    "    cl = \"Cúmplice\"\n",
    "else:\n",
    "    cl = \"Assassino\"\n",
    "print(cl)\n"
   ]
  },
  {
   "cell_type": "markdown",
   "metadata": {},
   "source": [
    ". Uma fruteira está vendendo frutas com a seguinte tabela de preços:\n",
    " Até 5 Kg Acima de 5 Kg\n",
    "Morango R$ 2,50 por Kg R$ 2,20 por Kg\n",
    "Maçã R$ 1,80 por Kg R$ 1,50 por Kg\n",
    "Se o cliente comprar mais de 8 Kg em frutas ou o valor total da compra ultrapassar\n",
    "R$ 25,00, receberá ainda um desconto de 10% sobre este total. Escreva um\n",
    "algoritmo para ler a quantidade (em Kg) de morangos e a quantidade (em Kg) de\n",
    "maças adquiridas e escreva o valor a ser pago pelo cliente"
   ]
  },
  {
   "cell_type": "code",
   "execution_count": 4,
   "metadata": {},
   "outputs": [
    {
     "name": "stdout",
     "output_type": "stream",
     "text": [
      "Informe o valor em kg de maças que deseja comprar10\n",
      "Informe o valor em kg de morangos que deseja comprar2\n",
      "Você recebeu um desconto de  13.2\n",
      "A quantidade de morangos e maças compradas é de 12.0. O preço total é de 20.0 e o preço pago com desconto de é de 13.2\n"
     ]
    }
   ],
   "source": [
    "maca = float(input(\"Informe o valor em kg de maças que deseja comprar\"))\n",
    "morango = float(input(\"Informe o valor em kg de morangos que deseja comprar\"))\n",
    "quantidade = maca + morango\n",
    "total = maca + morango\n",
    "valorMorango = 0\n",
    "valorMaca = 0\n",
    "\n",
    "if maca <= 5:\n",
    "    valorMaca = maca * 1.80\n",
    "else:\n",
    "    valorMaca = maca * 1.50\n",
    "\n",
    "if morango <= 5:\n",
    "    valorMorango = morango * 2.50\n",
    "else:\n",
    "    valorMorango = morango * 2.20\n",
    "\n",
    "valorTotal = valorMorango + valorMaca\n",
    "\n",
    "if total > 8 or valorTotal > 25.00:\n",
    "    total += total * 0.1\n",
    "    print(\"Você recebeu um desconto de \", str(total))\n",
    "\n",
    "print(\"A quantidade de morangos e maças compradas é de \" + str(quantidade) + \". O preço total é de \" + str(valorTotal) + \" e o preço pago com desconto de é de \" + str(total))\n"
   ]
  },
  {
   "cell_type": "markdown",
   "metadata": {},
   "source": [
    "13  Faça um programa que peça uma nota, entre zero e dez. Mostre uma mensagem\n",
    "caso o valor seja inválido e continue pedindo até que o usuário informe um valor\n",
    "válido."
   ]
  },
  {
   "cell_type": "code",
   "execution_count": 1,
   "metadata": {},
   "outputs": [
    {
     "name": "stdout",
     "output_type": "stream",
     "text": [
      "Digite a nota (0-10) 11\n",
      "Digite a nota (0-10) 22\n",
      "Digite a nota (0-10) 34\n",
      "Digite a nota (0-10) 5\n",
      "5\n"
     ]
    }
   ],
   "source": [
    "nota = int(input(\"Digite a nota (0-10) \"))\n",
    "while nota < 0 or nota > 10:\n",
    "    nota = int(input(\"Digite a nota (0-10) \"))\n",
    "print(nota)\n"
   ]
  },
  {
   "cell_type": "markdown",
   "metadata": {},
   "source": [
    "14  Faça um programa que leia e valide as seguintes informações:\n",
    "Nome: maior que 3 caracteres;\n",
    "Idade: entre 0 e 150;\n",
    "Salário: maior que zero;\n",
    "Sexo: 'f' ou 'm';\n",
    "Estado Civil: 's', 'c', 'v', 'd';"
   ]
  },
  {
   "cell_type": "code",
   "execution_count": 2,
   "metadata": {},
   "outputs": [
    {
     "name": "stdout",
     "output_type": "stream",
     "text": [
      "Digite seu nome (>3 caracteres) rafa\n",
      "Digite sua idade (0-150) 50\n",
      "Digite seu salario (> 0) 1000\n",
      "Digite seu sexo (f/m)f\n",
      "Digite seu estado civil (s/c/v/d)s\n",
      "Nome: rafa\n",
      "Idade: 50\n",
      "Salario: 1000.0\n",
      "Sexo: f\n",
      "Estado Civil: s\n"
     ]
    }
   ],
   "source": [
    "nome = input(\"Digite seu nome (>3 caracteres) \")\n",
    "while len(nome) < 4:\n",
    "    nome = input(\"Digite seu nome (>3 caracteres) \")\n",
    "                 \n",
    "idade = int(input(\"Digite sua idade (0-150) \"))\n",
    "while idade < 0 or idade > 150:    \n",
    "    idade = int(input(\"Digite sua idade (0-150) \"))\n",
    "                 \n",
    "salario = float(input(\"Digite seu salario (> 0) \"))\n",
    "while salario < 0:\n",
    "    salario = float(input(\"Digite seu salario (> 0) \"))\n",
    "                 \n",
    "sexo = input(\"Digite seu sexo (f/m)\")\n",
    "while sexo not in ['f', 'm']:\n",
    "    sexo = input(\"Digite seu sexo (f/m)\")\n",
    "\n",
    "eCivil = input(\"Digite seu estado civil (s/c/v/d)\")\n",
    "while eCivil not in ['s','c','v','d']:\n",
    "    eCivil = input(\"Digite seu estado civil (s/c/v/d)\")\n",
    "print(\"Nome: \"+nome+\"\\nIdade: \"+str(idade)+\"\\nSalario: \"+str(salario)+\"\\nSexo: \"+sexo+\"\\nEstado Civil: \"+eCivil)\n"
   ]
  },
  {
   "cell_type": "markdown",
   "metadata": {},
   "source": [
    "15 Faça um programa que leia 5 números e informe o maior número"
   ]
  },
  {
   "cell_type": "code",
   "execution_count": 3,
   "metadata": {},
   "outputs": [
    {
     "name": "stdout",
     "output_type": "stream",
     "text": [
      "Digite o 1° numero3\n",
      "Digite o 2° numero4\n",
      "Digite o 3° numero65\n",
      "Digite o 4° numero2\n",
      "Digite o 5° numero5\n",
      "65\n"
     ]
    }
   ],
   "source": [
    "x = 1\n",
    "lista = []\n",
    "while x < 6:\n",
    "    lista.append(int(input(\"Digite o \"+str(x)+\"° numero\")))\n",
    "    x += 1\n",
    "lista.sort()\n",
    "print(lista[-1])\n"
   ]
  },
  {
   "cell_type": "markdown",
   "metadata": {},
   "source": [
    "16 Faça um programa que leia 5 números e informe a soma e a média dos números."
   ]
  },
  {
   "cell_type": "code",
   "execution_count": 4,
   "metadata": {},
   "outputs": [
    {
     "name": "stdout",
     "output_type": "stream",
     "text": [
      "Digite o 1° numero 1\n",
      "Digite o 2° numero 2\n",
      "Digite o 3° numero 3\n",
      "Digite o 4° numero 45\n",
      "Digite o 5° numero 5\n",
      "Soma: 56\n",
      "Media: 11.2\n"
     ]
    }
   ],
   "source": [
    "x = 1\n",
    "lista = []\n",
    "while x < 6:\n",
    "    lista.append(int(input(\"Digite o \"+str(x)+\"° numero \")))\n",
    "    x += 1\n",
    "print(\"Soma: \"+str(sum(lista)))\n",
    "print(\"Media: \"+str(sum(lista)/len(lista)))"
   ]
  },
  {
   "cell_type": "markdown",
   "metadata": {},
   "source": [
    "17  Faça um programa que imprima na tela apenas os números ímpares entre 1 e 50 "
   ]
  },
  {
   "cell_type": "code",
   "execution_count": 5,
   "metadata": {},
   "outputs": [
    {
     "name": "stdout",
     "output_type": "stream",
     "text": [
      "1\n",
      "3\n",
      "5\n",
      "7\n",
      "9\n",
      "11\n",
      "13\n",
      "15\n",
      "17\n",
      "19\n",
      "21\n",
      "23\n",
      "25\n",
      "27\n",
      "29\n",
      "31\n",
      "33\n",
      "35\n",
      "37\n",
      "39\n",
      "41\n",
      "43\n",
      "45\n",
      "47\n",
      "49\n"
     ]
    }
   ],
   "source": [
    "x = 1\n",
    "while x < 50:\n",
    "    if x % 2 != 0:\n",
    "        print(x)\n",
    "    x += 1\n"
   ]
  },
  {
   "cell_type": "markdown",
   "metadata": {},
   "source": [
    "18 Desenvolva um gerador de tabuada, capaz de gerar a tabuada de qualquer\n",
    "número inteiro entre 1 a 10. O usuário deve informar de qual numero ele deseja ver\n",
    "a tabuada. A saída deve ser conforme o exemplo abaixo:\n",
    "Tabuada de 5:\n",
    "5 X 1 = 5\n",
    "5 X 2 = 10\n",
    "...\n",
    "5 X 10 = 50"
   ]
  },
  {
   "cell_type": "code",
   "execution_count": 6,
   "metadata": {},
   "outputs": [
    {
     "name": "stdout",
     "output_type": "stream",
     "text": [
      "Digite um numero (0-10) 5\n",
      "5 x 1 = 5\n",
      "5 x 2 = 10\n",
      "5 x 3 = 15\n",
      "5 x 4 = 20\n",
      "5 x 5 = 25\n",
      "5 x 6 = 30\n",
      "5 x 7 = 35\n",
      "5 x 8 = 40\n",
      "5 x 9 = 45\n",
      "5 x 10 = 50\n"
     ]
    }
   ],
   "source": [
    "i = 1\n",
    "n = int(input(\"Digite um numero (0-10) \"))\n",
    "while n < 0 or n > 10:\n",
    "    n = int(input(\"Digite um numero (0-10) \"))\n",
    "while i <= 10:\n",
    "    print(str(n)+\" x \"+str(i)+\" = \"+str(n*i))\n",
    "    i += 1\n",
    "\n"
   ]
  },
  {
   "cell_type": "markdown",
   "metadata": {},
   "source": [
    "19  A série de Fibonacci é formada pela seqüência 1,1,2,3,5,8,13,21,34,55,... Faça um\n",
    "programa capaz de gerar a série até o n−ésimo termo."
   ]
  },
  {
   "cell_type": "code",
   "execution_count": 7,
   "metadata": {},
   "outputs": [
    {
     "name": "stdout",
     "output_type": "stream",
     "text": [
      "Digite um numero 2\n",
      "[1, 1]\n"
     ]
    }
   ],
   "source": [
    "x = 0\n",
    "y = 1\n",
    "n = int(input(\"Digite um numero \"))\n",
    "lista = []\n",
    "while len(lista) < n:\n",
    "    aux = x\n",
    "    x = y\n",
    "    y = x + aux\n",
    "    lista.append(x)\n",
    "print(lista)\n",
    "    "
   ]
  },
  {
   "cell_type": "markdown",
   "metadata": {},
   "source": [
    "20 Faça um programa que calcule o fatorial de um número inteiro fornecido pelo\n",
    "usuário. Ex.: 5!=5.4.3.2.1=120"
   ]
  },
  {
   "cell_type": "code",
   "execution_count": 8,
   "metadata": {},
   "outputs": [
    {
     "name": "stdout",
     "output_type": "stream",
     "text": [
      "Digite um numero2\n",
      "2\n"
     ]
    }
   ],
   "source": [
    "n = int(input(\"Digite um numero\"))\n",
    "x = n-1\n",
    "while x > 0:\n",
    "    n = n * x\n",
    "    x -= 1\n",
    "print(n)\n"
   ]
  },
  {
   "cell_type": "markdown",
   "metadata": {},
   "source": [
    "21  O Sr. Manoel Joaquim possui uma grande loja de artigos de R$ 1,99, com cerca\n",
    "de 10 caixas. Para agilizar o cálculo de quanto cada cliente deve pagar ele\n",
    "desenvolveu um tabela que contém o número de itens que o cliente comprou e ao\n",
    "lado o valor da conta. Desta forma a atendente do caixa precisa apenas contar\n",
    "quantos itens o cliente está levando e olhar na tabela de preços. Você foi contratado\n",
    "para desenvolver o programa que monta esta tabela de preços, que conterá os\n",
    "preços de 1 até 50 produtos, conforme o exemplo abaixo:\n",
    "Lojas Quase Dois - Tabela de preços\n",
    "1 - R$ 1.99\n",
    "2 - R$ 3.98\n",
    "...\n",
    "50 - R$ 99.50"
   ]
  },
  {
   "cell_type": "code",
   "execution_count": 9,
   "metadata": {},
   "outputs": [
    {
     "name": "stdout",
     "output_type": "stream",
     "text": [
      "1 - R$ 1.99\n",
      "2 - R$ 3.98\n",
      "3 - R$ 5.97\n",
      "4 - R$ 7.96\n",
      "5 - R$ 9.95\n",
      "6 - R$ 11.94\n",
      "7 - R$ 13.93\n",
      "8 - R$ 15.92\n",
      "9 - R$ 17.91\n",
      "10 - R$ 19.9\n",
      "11 - R$ 21.89\n",
      "12 - R$ 23.88\n",
      "13 - R$ 25.87\n",
      "14 - R$ 27.86\n",
      "15 - R$ 29.85\n",
      "16 - R$ 31.84\n",
      "17 - R$ 33.83\n",
      "18 - R$ 35.82\n",
      "19 - R$ 37.81\n",
      "20 - R$ 39.8\n",
      "21 - R$ 41.79\n",
      "22 - R$ 43.78\n",
      "23 - R$ 45.77\n",
      "24 - R$ 47.76\n",
      "25 - R$ 49.75\n",
      "26 - R$ 51.74\n",
      "27 - R$ 53.73\n",
      "28 - R$ 55.72\n",
      "29 - R$ 57.71\n",
      "30 - R$ 59.7\n",
      "31 - R$ 61.69\n",
      "32 - R$ 63.68\n",
      "33 - R$ 65.67\n",
      "34 - R$ 67.66\n",
      "35 - R$ 69.65\n",
      "36 - R$ 71.64\n",
      "37 - R$ 73.63\n",
      "38 - R$ 75.62\n",
      "39 - R$ 77.61\n",
      "40 - R$ 79.6\n",
      "41 - R$ 81.59\n",
      "42 - R$ 83.58\n",
      "43 - R$ 85.57\n",
      "44 - R$ 87.56\n",
      "45 - R$ 89.55\n",
      "46 - R$ 91.54\n",
      "47 - R$ 93.53\n",
      "48 - R$ 95.52\n",
      "49 - R$ 97.51\n",
      "50 - R$ 99.5\n"
     ]
    }
   ],
   "source": [
    "x = 1\n",
    "while x < 51:\n",
    "    print(str(x)+\" - R$ \"+str(x*1.99))\n",
    "    x += 1"
   ]
  },
  {
   "cell_type": "markdown",
   "metadata": {},
   "source": [
    "22 O Sr. Manoel Joaquim acaba de adquirir uma panificadora e pretende implantar\n",
    "a metodologia da tabelinha, que já é um sucesso na sua loja de 1,99. Você foi\n",
    "contratado para desenvolver o programa que monta a tabela de preços de pães, de\n",
    "1 até 50 pães, a partir do preço do pão informado pelo usuário, conforme o exemplo\n",
    "abaixo:\n",
    "Preço do pão: R$ 0.18\n",
    "Panificadora Pão de Ontem - Tabela de preços\n",
    "1 - R$ 0.18\n",
    "2 - R$ 0.36\n",
    "...\n",
    "50 - R$ 9.00"
   ]
  },
  {
   "cell_type": "code",
   "execution_count": 10,
   "metadata": {},
   "outputs": [
    {
     "name": "stdout",
     "output_type": "stream",
     "text": [
      "1 - R$ 0.18\n",
      "2 - R$ 0.36\n",
      "3 - R$ 0.54\n",
      "4 - R$ 0.72\n",
      "5 - R$ 0.89\n",
      "6 - R$ 1.08\n",
      "7 - R$ 1.26\n",
      "8 - R$ 1.44\n",
      "9 - R$ 1.61\n",
      "10 - R$ 1.79\n",
      "11 - R$ 1.98\n",
      "12 - R$ 2.16\n",
      "13 - R$ 2.34\n",
      "14 - R$ 2.52\n",
      "15 - R$ 2.69\n",
      "16 - R$ 2.88\n",
      "17 - R$ 3.06\n",
      "18 - R$ 3.23\n",
      "19 - R$ 3.42\n",
      "20 - R$ 3.59\n",
      "21 - R$ 3.78\n",
      "22 - R$ 3.96\n",
      "23 - R$ 4.14\n",
      "24 - R$ 4.32\n",
      "25 - R$ 4.5\n",
      "26 - R$ 4.68\n",
      "27 - R$ 4.85\n",
      "28 - R$ 5.04\n",
      "29 - R$ 5.22\n",
      "30 - R$ 5.39\n",
      "31 - R$ 5.58\n",
      "32 - R$ 5.76\n",
      "33 - R$ 5.93\n",
      "34 - R$ 6.12\n",
      "35 - R$ 6.3\n",
      "36 - R$ 6.47\n",
      "37 - R$ 6.66\n",
      "38 - R$ 6.84\n",
      "39 - R$ 7.02\n",
      "40 - R$ 7.19\n",
      "41 - R$ 7.38\n",
      "42 - R$ 7.56\n",
      "43 - R$ 7.73\n",
      "44 - R$ 7.92\n",
      "45 - R$ 8.1\n",
      "46 - R$ 8.28\n",
      "47 - R$ 8.45\n",
      "48 - R$ 8.64\n",
      "49 - R$ 8.82\n",
      "50 - R$ 9.0\n"
     ]
    }
   ],
   "source": [
    "x = 1\n",
    "while x < 51:\n",
    "    print(str(x)+\" - R$ \"+str(x*0.18)[:4])\n",
    "    x += 1"
   ]
  },
  {
   "cell_type": "markdown",
   "metadata": {},
   "source": [
    "23  O Sr. Manoel Joaquim expandiu seus negócios para além dos negócios de 1,99 e\n",
    "agora possui uma loja de conveniências. Faça um programa que implemente uma\n",
    "caixa registradora rudimentar. O programa deverá receber um número\n",
    "desconhecido de valores referentes aos preços das mercadorias. Um valor zero deve\n",
    "ser informado pelo operador para indicar o final da compra. O programa deve então\n",
    "mostrar o total da compra e perguntar o valor em dinheiro que o cliente forneceu,\n",
    "para então calcular e mostrar o valor do troco. Após esta operação, o programa\n",
    "deverá voltar ao ponto inicial, para registrar a próxima compra. A saída deve ser\n",
    "conforme o exemplo abaixo:\n",
    "Lojas Tabajara\n",
    "Produto 1: R$ 2.20\n",
    "Produto 2: R$ 5.80\n",
    "Produto 3: R$ 0\n",
    "Total: R$ 9.00\n",
    "Dinheiro: R$ 20.00\n",
    "Troco: R$ 11.00"
   ]
  },
  {
   "cell_type": "code",
   "execution_count": 11,
   "metadata": {},
   "outputs": [
    {
     "name": "stdout",
     "output_type": "stream",
     "text": [
      "Produto 1 2\n",
      "Produto 2 3\n",
      "Produto 3 4\n",
      "Produto 4 6\n",
      "Produto 5 7\n",
      "Produto 6 8\n",
      "Produto 7 9\n",
      "Produto 8 0\n",
      "Digite o valor fornecido8\n",
      "Total: 39\n",
      "Dinheiro: 8\n",
      "Troco: -31\n"
     ]
    }
   ],
   "source": [
    "total = []\n",
    "i = 1\n",
    "x = -1\n",
    "while x != 0:\n",
    "    x = int(input(\"Produto \"+str(i)+\" \"))\n",
    "    total.append(x)\n",
    "    i += 1\n",
    "d = int(input(\"Digite o valor fornecido\"))\n",
    "print(\"Total: \"+str(sum(total)))\n",
    "print(\"Dinheiro: \"+str(d))\n",
    "print(\"Troco: \"+str(d-sum(total)))\n",
    "\n"
   ]
  },
  {
   "cell_type": "markdown",
   "metadata": {},
   "source": [
    "24 Foi feita uma estatística em cinco cidades brasileiras para coletar dados sobre\n",
    "acidentes de trânsito. Foram obtidos os seguintes dados:\n",
    "- Código da cidade;\n",
    "- Número de veículos de passeio (em 1999);\n",
    "- Número de acidentes de trânsito com vítimas (em 1999). Deseja-se saber:\n",
    "- Qual o maior e menor índice de acidentes de transito e a que cidade pertence;\n",
    "- Qual a média de veículos nas cinco cidades juntas;\n",
    "- Qual a média de acidentes de trânsito nas cidades com menos de 2.000 veículos de\n",
    "passeio."
   ]
  },
  {
   "cell_type": "code",
   "execution_count": 12,
   "metadata": {},
   "outputs": [
    {
     "name": "stdout",
     "output_type": "stream",
     "text": [
      "Maior: 9875\n",
      "Menor: 1092\n"
     ]
    }
   ],
   "source": [
    "cidades = {1: {\"codigo\": 1, \"numero_veiculos\": 5232, \"numero_acidentes\": 7},\n",
    "           2: {\"codigo\": 2, \"numero_veiculos\": 1984, \"numero_acidentes\": 2},\n",
    "           3: {\"codigo\": 3, \"numero_veiculos\": 2986, \"numero_acidentes\": 5},\n",
    "           4: {\"codigo\": 4, \"numero_veiculos\": 1092, \"numero_acidentes\": 0},\n",
    "           5: {\"codigo\": 5, \"numero_veiculos\": 9875, \"numero_acidentes\": 9}}\n",
    "\n",
    "lista = []\n",
    "for cidade in cidades:\n",
    "    lista.append(cidades[cidade][\"numero_veiculos\"])\n",
    "maior = max(lista)\n",
    "menor = min(lista)\n",
    "print(\"Maior: \" + str(maior) + \"\\nMenor: \" + str(menor))\n"
   ]
  },
  {
   "cell_type": "markdown",
   "metadata": {},
   "source": [
    "25 Faça um programa que receba o valor de uma dívida e mostre uma tabela com\n",
    "os seguintes dados: valor da dívida, valor dos juros, quantidade de parcelas e valor\n",
    "da parcela.\n",
    "Os juros e a quantidade de parcelas seguem a tabela abaixo:\n",
    "Quantidade de Parcelas % de Juros sobre o valor inicial da dívida\n",
    "1 0\n",
    "3 10\n",
    "6 15\n",
    "9 20\n",
    "12 25"
   ]
  },
  {
   "cell_type": "code",
   "execution_count": 15,
   "metadata": {},
   "outputs": [
    {
     "name": "stdout",
     "output_type": "stream",
     "text": [
      "Digite o valor da divida200\n",
      "Digite o numero de parcelas (1, 3, 6, 9 ou 12)6\n",
      "Valor da Divida: 230.0\n",
      "Valor dos Juros: 30.0\n",
      "Quantidade de parcelas: 6\n",
      "Valor da Parcela: R$ 38.333333333333336\n"
     ]
    }
   ],
   "source": [
    "vDivida = float(input(\"Digite o valor da divida\"))\n",
    "qtdParcelas = int(input(\"Digite o numero de parcelas (1, 3, 6, 9 ou 12)\"))\n",
    "\n",
    "juros = {1: 0, 3: 10, 6: 15, 8: 20, 12: 25}\n",
    "dTotal = vDivida + vDivida*(juros[qtdParcelas] / 100)\n",
    "print(\"Valor da Divida:\", str(dTotal))\n",
    "print(\"Valor dos Juros:\", str(vDivida*(juros[qtdParcelas] / 100)))\n",
    "print(\"Quantidade de parcelas:\", str(qtdParcelas))\n",
    "print(\"Valor da Parcela: R$\", str(dTotal/qtdParcelas))\n",
    "\n"
   ]
  },
  {
   "cell_type": "markdown",
   "metadata": {},
   "source": [
    "26  Faça um programa que mostre os n termos da Série a seguir:\n",
    " S = 1/1 + 2/3 + 3/5 + 4/7 + 5/9 + ... + n/m.\n",
    "Imprima no final a soma da série."
   ]
  },
  {
   "cell_type": "code",
   "execution_count": 16,
   "metadata": {},
   "outputs": [
    {
     "name": "stdout",
     "output_type": "stream",
     "text": [
      "Digite um numero5\n",
      "1/1 + 2/3 + 3/5 + 4/7 + \n",
      "2.838095238095238\n"
     ]
    }
   ],
   "source": [
    "x = int(input(\"Digite um numero\"))\n",
    "soma = 0\n",
    "n = 1\n",
    "m = -1\n",
    "teste = \"\"\n",
    "while n < x:\n",
    "    m += 2\n",
    "    teste += \"\"+str(n)+\"/\"+str(m)+\" + \"\n",
    "    soma += n/m\n",
    "    n += 1\n",
    "print(teste)\n",
    "print(soma)\n"
   ]
  }
 ],
 "metadata": {
  "kernelspec": {
   "display_name": "Python 3",
   "language": "python",
   "name": "python3"
  },
  "language_info": {
   "codemirror_mode": {
    "name": "ipython",
    "version": 3
   },
   "file_extension": ".py",
   "mimetype": "text/x-python",
   "name": "python",
   "nbconvert_exporter": "python",
   "pygments_lexer": "ipython3",
   "version": "3.6.4"
  }
 },
 "nbformat": 4,
 "nbformat_minor": 2
}
